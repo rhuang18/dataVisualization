{
 "cells": [
  {
   "cell_type": "code",
   "execution_count": 217,
   "metadata": {
    "collapsed": false
   },
   "outputs": [
    {
     "data": {
      "text/html": [
       "\n",
       "    <div class=\"bk-root\">\n",
       "        <a href=\"http://bokeh.pydata.org\" target=\"_blank\" class=\"bk-logo bk-logo-small bk-logo-notebook\"></a>\n",
       "        <span id=\"455b4b13-186a-4c10-b9fa-24cf81f781e5\">Loading BokehJS ...</span>\n",
       "    </div>"
      ]
     },
     "metadata": {},
     "output_type": "display_data"
    },
    {
     "data": {
      "application/javascript": [
       "\n",
       "(function(global) {\n",
       "  function now() {\n",
       "    return new Date();\n",
       "  }\n",
       "\n",
       "  var force = true;\n",
       "\n",
       "  if (typeof (window._bokeh_onload_callbacks) === \"undefined\" || force === true) {\n",
       "    window._bokeh_onload_callbacks = [];\n",
       "    window._bokeh_is_loading = undefined;\n",
       "  }\n",
       "\n",
       "\n",
       "  \n",
       "  if (typeof (window._bokeh_timeout) === \"undefined\" || force === true) {\n",
       "    window._bokeh_timeout = Date.now() + 5000;\n",
       "    window._bokeh_failed_load = false;\n",
       "  }\n",
       "\n",
       "  var NB_LOAD_WARNING = {'data': {'text/html':\n",
       "     \"<div style='background-color: #fdd'>\\n\"+\n",
       "     \"<p>\\n\"+\n",
       "     \"BokehJS does not appear to have successfully loaded. If loading BokehJS from CDN, this \\n\"+\n",
       "     \"may be due to a slow or bad network connection. Possible fixes:\\n\"+\n",
       "     \"</p>\\n\"+\n",
       "     \"<ul>\\n\"+\n",
       "     \"<li>re-rerun `output_notebook()` to attempt to load from CDN again, or</li>\\n\"+\n",
       "     \"<li>use INLINE resources instead, as so:</li>\\n\"+\n",
       "     \"</ul>\\n\"+\n",
       "     \"<code>\\n\"+\n",
       "     \"from bokeh.resources import INLINE\\n\"+\n",
       "     \"output_notebook(resources=INLINE)\\n\"+\n",
       "     \"</code>\\n\"+\n",
       "     \"</div>\"}};\n",
       "\n",
       "  function display_loaded() {\n",
       "    if (window.Bokeh !== undefined) {\n",
       "      var el = document.getElementById(\"455b4b13-186a-4c10-b9fa-24cf81f781e5\");\n",
       "      el.textContent = \"BokehJS \" + Bokeh.version + \" successfully loaded.\";\n",
       "    } else if (Date.now() < window._bokeh_timeout) {\n",
       "      setTimeout(display_loaded, 100)\n",
       "    }\n",
       "  }\n",
       "\n",
       "  function run_callbacks() {\n",
       "    window._bokeh_onload_callbacks.forEach(function(callback) { callback() });\n",
       "    delete window._bokeh_onload_callbacks\n",
       "    console.info(\"Bokeh: all callbacks have finished\");\n",
       "  }\n",
       "\n",
       "  function load_libs(js_urls, callback) {\n",
       "    window._bokeh_onload_callbacks.push(callback);\n",
       "    if (window._bokeh_is_loading > 0) {\n",
       "      console.log(\"Bokeh: BokehJS is being loaded, scheduling callback at\", now());\n",
       "      return null;\n",
       "    }\n",
       "    if (js_urls == null || js_urls.length === 0) {\n",
       "      run_callbacks();\n",
       "      return null;\n",
       "    }\n",
       "    console.log(\"Bokeh: BokehJS not loaded, scheduling load and callback at\", now());\n",
       "    window._bokeh_is_loading = js_urls.length;\n",
       "    for (var i = 0; i < js_urls.length; i++) {\n",
       "      var url = js_urls[i];\n",
       "      var s = document.createElement('script');\n",
       "      s.src = url;\n",
       "      s.async = false;\n",
       "      s.onreadystatechange = s.onload = function() {\n",
       "        window._bokeh_is_loading--;\n",
       "        if (window._bokeh_is_loading === 0) {\n",
       "          console.log(\"Bokeh: all BokehJS libraries loaded\");\n",
       "          run_callbacks()\n",
       "        }\n",
       "      };\n",
       "      s.onerror = function() {\n",
       "        console.warn(\"failed to load library \" + url);\n",
       "      };\n",
       "      console.log(\"Bokeh: injecting script tag for BokehJS library: \", url);\n",
       "      document.getElementsByTagName(\"head\")[0].appendChild(s);\n",
       "    }\n",
       "  };var element = document.getElementById(\"455b4b13-186a-4c10-b9fa-24cf81f781e5\");\n",
       "  if (element == null) {\n",
       "    console.log(\"Bokeh: ERROR: autoload.js configured with elementid '455b4b13-186a-4c10-b9fa-24cf81f781e5' but no matching script tag was found. \")\n",
       "    return false;\n",
       "  }\n",
       "\n",
       "  var js_urls = [\"https://cdn.pydata.org/bokeh/release/bokeh-0.12.5.min.js\", \"https://cdn.pydata.org/bokeh/release/bokeh-widgets-0.12.5.min.js\"];\n",
       "\n",
       "  var inline_js = [\n",
       "    function(Bokeh) {\n",
       "      Bokeh.set_log_level(\"info\");\n",
       "    },\n",
       "    \n",
       "    function(Bokeh) {\n",
       "      \n",
       "    },\n",
       "    \n",
       "    function(Bokeh) {\n",
       "      \n",
       "      document.getElementById(\"455b4b13-186a-4c10-b9fa-24cf81f781e5\").textContent = \"BokehJS is loading...\";\n",
       "    },\n",
       "    function(Bokeh) {\n",
       "      console.log(\"Bokeh: injecting CSS: https://cdn.pydata.org/bokeh/release/bokeh-0.12.5.min.css\");\n",
       "      Bokeh.embed.inject_css(\"https://cdn.pydata.org/bokeh/release/bokeh-0.12.5.min.css\");\n",
       "      console.log(\"Bokeh: injecting CSS: https://cdn.pydata.org/bokeh/release/bokeh-widgets-0.12.5.min.css\");\n",
       "      Bokeh.embed.inject_css(\"https://cdn.pydata.org/bokeh/release/bokeh-widgets-0.12.5.min.css\");\n",
       "    }\n",
       "  ];\n",
       "\n",
       "  function run_inline_js() {\n",
       "    \n",
       "    if ((window.Bokeh !== undefined) || (force === true)) {\n",
       "      for (var i = 0; i < inline_js.length; i++) {\n",
       "        inline_js[i](window.Bokeh);\n",
       "      }if (force === true) {\n",
       "        display_loaded();\n",
       "      }} else if (Date.now() < window._bokeh_timeout) {\n",
       "      setTimeout(run_inline_js, 100);\n",
       "    } else if (!window._bokeh_failed_load) {\n",
       "      console.log(\"Bokeh: BokehJS failed to load within specified timeout.\");\n",
       "      window._bokeh_failed_load = true;\n",
       "    } else if (force !== true) {\n",
       "      var cell = $(document.getElementById(\"455b4b13-186a-4c10-b9fa-24cf81f781e5\")).parents('.cell').data().cell;\n",
       "      cell.output_area.append_execute_result(NB_LOAD_WARNING)\n",
       "    }\n",
       "\n",
       "  }\n",
       "\n",
       "  if (window._bokeh_is_loading === 0) {\n",
       "    console.log(\"Bokeh: BokehJS loaded, going straight to plotting\");\n",
       "    run_inline_js();\n",
       "  } else {\n",
       "    load_libs(js_urls, function() {\n",
       "      console.log(\"Bokeh: BokehJS plotting callback run at\", now());\n",
       "      run_inline_js();\n",
       "    });\n",
       "  }\n",
       "}(this));"
      ]
     },
     "metadata": {},
     "output_type": "display_data"
    }
   ],
   "source": [
    "from bokeh.io import output_notebook, show, push_notebook\n",
    "from bokeh.plotting import figure\n",
    "from bokeh.charts import Histogram, HeatMap\n",
    "from bokeh.layouts import row, column, gridplot, layout, widgetbox\n",
    "from bokeh.models import CustomJS, ColumnDataSource, Slider, HoverTool, LinearAxis\n",
    "from bokeh.models.widgets import Select, Panel, Tabs, Div\n",
    "import pandas as pd \n",
    "import math \n",
    "import numpy as np \n",
    "import csv\n",
    "from collections import defaultdict\n",
    "from ipywidgets import interact\n",
    "from bokeh.core.properties import field\n",
    "\n",
    "output_notebook() \n",
    "\n",
    "# create a dict: country -> region \n",
    "region_dict = defaultdict(str)\n",
    "with open(\"gapminder_regions.csv\",'rb') as regions:\n",
    "    dr = csv.DictReader(regions)\n",
    "    for line in dr:\n",
    "        region_dict[line['Country']] = line['Group']\n",
    "        \n",
    "\n",
    "# preprocess data for line graph \n",
    "data = pd.read_csv(\"ppl-living-with-hiv-all-ages.csv\")\n",
    "line_years = data.columns.values[1:]\n",
    "\n",
    "i_subSaharanAfrica = []\n",
    "i_southAsia = []\n",
    "i_middleEastNorthAfrica = []\n",
    "i_america = []\n",
    "i_europeCentralAsia = []\n",
    "i_eastAsiaPacific = [] \n",
    "\n",
    "for i in range(len(data[\"People living with HIV\"])): \n",
    "    if (region_dict[data[\"People living with HIV\"].iloc[i]] == \"Sub-Saharan Africa\"): \n",
    "        i_subSaharanAfrica.append(i)\n",
    "    elif (region_dict[data[\"People living with HIV\"].iloc[i]] == \"South Asia\"): \n",
    "        i_southAsia.append(i)\n",
    "    elif (region_dict[data[\"People living with HIV\"].iloc[i]] == \"Middle East & North Africa\"):\n",
    "        i_middleEastNorthAfrica.append(i)\n",
    "    elif (region_dict[data[\"People living with HIV\"].iloc[i]] == \"America\"):\n",
    "        i_america.append(i)\n",
    "    elif (region_dict[data[\"People living with HIV\"].iloc[i]] == \"Europe & Central Asia\"):\n",
    "        i_europeCentralAsia.append(i)\n",
    "    elif (region_dict[data[\"People living with HIV\"].iloc[i]] == \"East Asia & Pacific\"):\n",
    "        i_eastAsiaPacific.append(i) \n",
    "        \n",
    "sum_subSaharanAfrica = data.iloc[i_subSaharanAfrica].sum(axis=0).tolist()[1:]\n",
    "sum_southAsia = data.iloc[i_southAsia].sum(axis=0).tolist()[1:]\n",
    "sum_middleEastNorthAfrica = data.iloc[i_middleEastNorthAfrica].sum(axis=0).tolist()[1:]\n",
    "sum_america = data.iloc[i_america].sum(axis=0).tolist()[1:]\n",
    "sum_europeCentralAsia = data.iloc[i_europeCentralAsia].sum(axis=0).tolist()[1:]\n",
    "sum_eastAsiaPacific = data.iloc[i_eastAsiaPacific].sum(axis=0).tolist()[1:]\n",
    "\n",
    "#replace None with 0\n",
    "for i in range(len(sum_eastAsiaPacific)): \n",
    "    if (sum_eastAsiaPacific[i] == None): \n",
    "        sum_eastAsiaPacific[i] = 0\n",
    "\n",
    "    if (sum_subSaharanAfrica[i] == None): \n",
    "        sum_subSaharanAfrica[i] = 0\n",
    "\n",
    "    if (sum_southAsia[i] == None): \n",
    "        sum_southAsia[i] = 0\n",
    "    \n",
    "    if (sum_middleEastNorthAfrica[i] == None): \n",
    "        sum_middleEastNorthAfrica[i] = 0\n",
    "    \n",
    "    if (sum_america[i] == None): \n",
    "        sum_america[i] = 0\n",
    "    \n",
    "    if (sum_europeCentralAsia[i] == None): \n",
    "        sum_europeCentralAsia[i] = 0\n",
    "\n",
    "line_source = {\"Sub-Saharan Africa\": sum_subSaharanAfrica, \"South Asia\": sum_southAsia, \n",
    "               \"Middle East & North Africa\": sum_middleEastNorthAfrica, \"America\": sum_america, \n",
    "              \"Europe & Central Asia\": sum_europeCentralAsia, \"East Asia & Pacific\": sum_eastAsiaPacific} \n"
   ]
  },
  {
   "cell_type": "code",
   "execution_count": 226,
   "metadata": {
    "collapsed": false
   },
   "outputs": [
    {
     "data": {
      "text/html": [
       "\n",
       "\n",
       "    <div class=\"bk-root\">\n",
       "        <div class=\"bk-plotdiv\" id=\"a3ba4d27-ce8b-4cfd-8b0f-018fcd734708\"></div>\n",
       "    </div>\n",
       "<script type=\"text/javascript\">\n",
       "  \n",
       "  (function(global) {\n",
       "    function now() {\n",
       "      return new Date();\n",
       "    }\n",
       "  \n",
       "    var force = false;\n",
       "  \n",
       "    if (typeof (window._bokeh_onload_callbacks) === \"undefined\" || force === true) {\n",
       "      window._bokeh_onload_callbacks = [];\n",
       "      window._bokeh_is_loading = undefined;\n",
       "    }\n",
       "  \n",
       "  \n",
       "    \n",
       "    if (typeof (window._bokeh_timeout) === \"undefined\" || force === true) {\n",
       "      window._bokeh_timeout = Date.now() + 0;\n",
       "      window._bokeh_failed_load = false;\n",
       "    }\n",
       "  \n",
       "    var NB_LOAD_WARNING = {'data': {'text/html':\n",
       "       \"<div style='background-color: #fdd'>\\n\"+\n",
       "       \"<p>\\n\"+\n",
       "       \"BokehJS does not appear to have successfully loaded. If loading BokehJS from CDN, this \\n\"+\n",
       "       \"may be due to a slow or bad network connection. Possible fixes:\\n\"+\n",
       "       \"</p>\\n\"+\n",
       "       \"<ul>\\n\"+\n",
       "       \"<li>re-rerun `output_notebook()` to attempt to load from CDN again, or</li>\\n\"+\n",
       "       \"<li>use INLINE resources instead, as so:</li>\\n\"+\n",
       "       \"</ul>\\n\"+\n",
       "       \"<code>\\n\"+\n",
       "       \"from bokeh.resources import INLINE\\n\"+\n",
       "       \"output_notebook(resources=INLINE)\\n\"+\n",
       "       \"</code>\\n\"+\n",
       "       \"</div>\"}};\n",
       "  \n",
       "    function display_loaded() {\n",
       "      if (window.Bokeh !== undefined) {\n",
       "        var el = document.getElementById(\"a3ba4d27-ce8b-4cfd-8b0f-018fcd734708\");\n",
       "        el.textContent = \"BokehJS \" + Bokeh.version + \" successfully loaded.\";\n",
       "      } else if (Date.now() < window._bokeh_timeout) {\n",
       "        setTimeout(display_loaded, 100)\n",
       "      }\n",
       "    }if ((window.Jupyter !== undefined) && Jupyter.notebook.kernel) {\n",
       "      comm_manager = Jupyter.notebook.kernel.comm_manager\n",
       "      comm_manager.register_target(\"b9cf0ca8-54f9-40c0-bf87-643ea03950a7\", function () {});\n",
       "    }\n",
       "  \n",
       "    function run_callbacks() {\n",
       "      window._bokeh_onload_callbacks.forEach(function(callback) { callback() });\n",
       "      delete window._bokeh_onload_callbacks\n",
       "      console.info(\"Bokeh: all callbacks have finished\");\n",
       "    }\n",
       "  \n",
       "    function load_libs(js_urls, callback) {\n",
       "      window._bokeh_onload_callbacks.push(callback);\n",
       "      if (window._bokeh_is_loading > 0) {\n",
       "        console.log(\"Bokeh: BokehJS is being loaded, scheduling callback at\", now());\n",
       "        return null;\n",
       "      }\n",
       "      if (js_urls == null || js_urls.length === 0) {\n",
       "        run_callbacks();\n",
       "        return null;\n",
       "      }\n",
       "      console.log(\"Bokeh: BokehJS not loaded, scheduling load and callback at\", now());\n",
       "      window._bokeh_is_loading = js_urls.length;\n",
       "      for (var i = 0; i < js_urls.length; i++) {\n",
       "        var url = js_urls[i];\n",
       "        var s = document.createElement('script');\n",
       "        s.src = url;\n",
       "        s.async = false;\n",
       "        s.onreadystatechange = s.onload = function() {\n",
       "          window._bokeh_is_loading--;\n",
       "          if (window._bokeh_is_loading === 0) {\n",
       "            console.log(\"Bokeh: all BokehJS libraries loaded\");\n",
       "            run_callbacks()\n",
       "          }\n",
       "        };\n",
       "        s.onerror = function() {\n",
       "          console.warn(\"failed to load library \" + url);\n",
       "        };\n",
       "        console.log(\"Bokeh: injecting script tag for BokehJS library: \", url);\n",
       "        document.getElementsByTagName(\"head\")[0].appendChild(s);\n",
       "      }\n",
       "    };var element = document.getElementById(\"a3ba4d27-ce8b-4cfd-8b0f-018fcd734708\");\n",
       "    if (element == null) {\n",
       "      console.log(\"Bokeh: ERROR: autoload.js configured with elementid 'a3ba4d27-ce8b-4cfd-8b0f-018fcd734708' but no matching script tag was found. \")\n",
       "      return false;\n",
       "    }\n",
       "  \n",
       "    var js_urls = [];\n",
       "  \n",
       "    var inline_js = [\n",
       "      function(Bokeh) {\n",
       "        (function() {\n",
       "          var fn = function() {\n",
       "            var docs_json = {\"8b4d25eb-7510-4bad-bc73-24260b8dc257\":{\"roots\":{\"references\":[{\"attributes\":{\"plot\":{\"id\":\"093f4f47-a56b-4691-bb70-7e1763c3083b\",\"subtype\":\"Figure\",\"type\":\"Plot\"},\"ticker\":{\"id\":\"3811aade-20e5-4b0b-be9d-2c649768d8d9\",\"type\":\"BasicTicker\"}},\"id\":\"6b9163e1-df69-418c-9352-f7cc6c20d778\",\"type\":\"Grid\"},{\"attributes\":{\"line_alpha\":{\"value\":0.1},\"line_color\":{\"value\":\"#1f77b4\"},\"line_width\":{\"value\":3},\"x\":{\"field\":\"x\"},\"y\":{\"field\":\"y\"}},\"id\":\"018c15f4-9d23-46f7-b63d-bccaae371d67\",\"type\":\"Line\"},{\"attributes\":{\"callback\":null,\"plot\":{\"id\":\"093f4f47-a56b-4691-bb70-7e1763c3083b\",\"subtype\":\"Figure\",\"type\":\"Plot\"},\"tooltips\":[[\"year\",\"$x\"],[\"number\",\"$y\"]]},\"id\":\"995f1b05-32ad-4d25-826c-e85d5a0c3f10\",\"type\":\"HoverTool\"},{\"attributes\":{\"formatter\":{\"id\":\"45e32cba-adf1-4a7c-a1fe-7a587c54cc4d\",\"type\":\"BasicTickFormatter\"},\"plot\":{\"id\":\"093f4f47-a56b-4691-bb70-7e1763c3083b\",\"subtype\":\"Figure\",\"type\":\"Plot\"},\"ticker\":{\"id\":\"3811aade-20e5-4b0b-be9d-2c649768d8d9\",\"type\":\"BasicTicker\"}},\"id\":\"c83d91ef-b371-4be5-ba54-950c09ab2a87\",\"type\":\"LinearAxis\"},{\"attributes\":{\"plot\":{\"id\":\"093f4f47-a56b-4691-bb70-7e1763c3083b\",\"subtype\":\"Figure\",\"type\":\"Plot\"}},\"id\":\"7caa467e-742b-4035-9df7-51c34dedc5a7\",\"type\":\"PanTool\"},{\"attributes\":{\"data_source\":{\"id\":\"2d1b80ca-88c7-43f7-880c-4e36e9ca101c\",\"type\":\"ColumnDataSource\"},\"glyph\":{\"id\":\"4ca87a81-6230-48ec-a592-ec69ce205a4e\",\"type\":\"Line\"},\"hover_glyph\":null,\"muted_glyph\":null,\"nonselection_glyph\":{\"id\":\"018c15f4-9d23-46f7-b63d-bccaae371d67\",\"type\":\"Line\"},\"selection_glyph\":null},\"id\":\"ea8a381d-62ee-4402-be3a-7f83a1fdd595\",\"type\":\"GlyphRenderer\"},{\"attributes\":{\"bottom_units\":\"screen\",\"fill_alpha\":{\"value\":0.5},\"fill_color\":{\"value\":\"lightgrey\"},\"left_units\":\"screen\",\"level\":\"overlay\",\"line_alpha\":{\"value\":1.0},\"line_color\":{\"value\":\"black\"},\"line_dash\":[4,4],\"line_width\":{\"value\":2},\"plot\":null,\"render_mode\":\"css\",\"right_units\":\"screen\",\"top_units\":\"screen\"},\"id\":\"73b81aa1-6980-4617-a359-444132f59d02\",\"type\":\"BoxAnnotation\"},{\"attributes\":{},\"id\":\"3ed97a41-923f-4161-b22e-ee322fed94cb\",\"type\":\"ToolEvents\"},{\"attributes\":{\"dimension\":1,\"plot\":{\"id\":\"093f4f47-a56b-4691-bb70-7e1763c3083b\",\"subtype\":\"Figure\",\"type\":\"Plot\"},\"ticker\":{\"id\":\"d410114b-7b44-4cf6-85f3-b6f8a92d1f68\",\"type\":\"BasicTicker\"}},\"id\":\"7ce0c93c-395b-403f-81ad-5e092b3ee492\",\"type\":\"Grid\"},{\"attributes\":{\"plot\":{\"id\":\"093f4f47-a56b-4691-bb70-7e1763c3083b\",\"subtype\":\"Figure\",\"type\":\"Plot\"}},\"id\":\"02099cfd-1a6b-4ba1-8a30-c953a5117a6f\",\"type\":\"HelpTool\"},{\"attributes\":{\"below\":[{\"id\":\"c83d91ef-b371-4be5-ba54-950c09ab2a87\",\"type\":\"LinearAxis\"}],\"left\":[{\"id\":\"51619dca-33e7-4a08-ada9-b48e3d864d45\",\"type\":\"LinearAxis\"}],\"plot_height\":400,\"renderers\":[{\"id\":\"c83d91ef-b371-4be5-ba54-950c09ab2a87\",\"type\":\"LinearAxis\"},{\"id\":\"6b9163e1-df69-418c-9352-f7cc6c20d778\",\"type\":\"Grid\"},{\"id\":\"51619dca-33e7-4a08-ada9-b48e3d864d45\",\"type\":\"LinearAxis\"},{\"id\":\"7ce0c93c-395b-403f-81ad-5e092b3ee492\",\"type\":\"Grid\"},{\"id\":\"73b81aa1-6980-4617-a359-444132f59d02\",\"type\":\"BoxAnnotation\"},{\"id\":\"ea8a381d-62ee-4402-be3a-7f83a1fdd595\",\"type\":\"GlyphRenderer\"}],\"title\":{\"id\":\"2710d661-1fbf-45b0-9231-9e1647d08696\",\"type\":\"Title\"},\"tool_events\":{\"id\":\"3ed97a41-923f-4161-b22e-ee322fed94cb\",\"type\":\"ToolEvents\"},\"toolbar\":{\"id\":\"737f8e34-2449-4dc1-b252-ef79161b96a5\",\"type\":\"Toolbar\"},\"x_range\":{\"id\":\"bd0bfd04-ea0d-4a72-af31-440d5b564643\",\"type\":\"DataRange1d\"},\"y_range\":{\"id\":\"6bea5a43-4844-44fc-b975-c3cdea0bb7f2\",\"type\":\"DataRange1d\"}},\"id\":\"093f4f47-a56b-4691-bb70-7e1763c3083b\",\"subtype\":\"Figure\",\"type\":\"Plot\"},{\"attributes\":{\"callback\":null},\"id\":\"6bea5a43-4844-44fc-b975-c3cdea0bb7f2\",\"type\":\"DataRange1d\"},{\"attributes\":{\"line_color\":{\"value\":\"#2222aa\"},\"line_width\":{\"value\":3},\"x\":{\"field\":\"x\"},\"y\":{\"field\":\"y\"}},\"id\":\"4ca87a81-6230-48ec-a592-ec69ce205a4e\",\"type\":\"Line\"},{\"attributes\":{\"plot\":null,\"text\":\"People living with HIV (all ages)\"},\"id\":\"2710d661-1fbf-45b0-9231-9e1647d08696\",\"type\":\"Title\"},{\"attributes\":{},\"id\":\"d693bb0f-aa21-4078-8649-d54f61f57be5\",\"type\":\"BasicTickFormatter\"},{\"attributes\":{\"callback\":null,\"column_names\":[\"y\",\"x\"],\"data\":{\"x\":[\"1979\",\"1980\",\"1981\",\"1982\",\"1983\",\"1984\",\"1985\",\"1986\",\"1987\",\"1988\",\"1989\",\"1990\",\"1991\",\"1992\",\"1993\",\"1994\",\"1995\",\"1996\",\"1997\",\"1998\",\"1999\",\"2000\",\"2001\",\"2002\",\"2003\",\"2004\",\"2005\",\"2006\",\"2007\",\"2008\",\"2009\",\"2010\",\"2011\"],\"y\":[111817.0,20.0,0,70.0,91.0,1885.0,762.0,165.0,0,0,0,1478000.0,1600800.0,1712800.0,1830000.0,1902700.0,1990700.0,2062700.0,2149600.0,2242000.0,2338400.0,2393800.0,2431100.0,2465000.0,2585300.0,2591700.0,2609200.0,2728900.0,2750100.0,2771900.0,2891000.0,2917000.0,2942500.0]}},\"id\":\"2d1b80ca-88c7-43f7-880c-4e36e9ca101c\",\"type\":\"ColumnDataSource\"},{\"attributes\":{},\"id\":\"d410114b-7b44-4cf6-85f3-b6f8a92d1f68\",\"type\":\"BasicTicker\"},{\"attributes\":{\"overlay\":{\"id\":\"73b81aa1-6980-4617-a359-444132f59d02\",\"type\":\"BoxAnnotation\"},\"plot\":{\"id\":\"093f4f47-a56b-4691-bb70-7e1763c3083b\",\"subtype\":\"Figure\",\"type\":\"Plot\"}},\"id\":\"900de542-ef1f-4ace-a9c3-0ffa7bcca555\",\"type\":\"BoxZoomTool\"},{\"attributes\":{},\"id\":\"45e32cba-adf1-4a7c-a1fe-7a587c54cc4d\",\"type\":\"BasicTickFormatter\"},{\"attributes\":{\"formatter\":{\"id\":\"d693bb0f-aa21-4078-8649-d54f61f57be5\",\"type\":\"BasicTickFormatter\"},\"plot\":{\"id\":\"093f4f47-a56b-4691-bb70-7e1763c3083b\",\"subtype\":\"Figure\",\"type\":\"Plot\"},\"ticker\":{\"id\":\"d410114b-7b44-4cf6-85f3-b6f8a92d1f68\",\"type\":\"BasicTicker\"}},\"id\":\"51619dca-33e7-4a08-ada9-b48e3d864d45\",\"type\":\"LinearAxis\"},{\"attributes\":{\"plot\":{\"id\":\"093f4f47-a56b-4691-bb70-7e1763c3083b\",\"subtype\":\"Figure\",\"type\":\"Plot\"}},\"id\":\"0dbe2e57-2308-48aa-ae95-a0a52a2bc25c\",\"type\":\"WheelZoomTool\"},{\"attributes\":{\"plot\":{\"id\":\"093f4f47-a56b-4691-bb70-7e1763c3083b\",\"subtype\":\"Figure\",\"type\":\"Plot\"}},\"id\":\"77afeea9-0c72-47e9-86cd-b72646ddae26\",\"type\":\"SaveTool\"},{\"attributes\":{},\"id\":\"3811aade-20e5-4b0b-be9d-2c649768d8d9\",\"type\":\"BasicTicker\"},{\"attributes\":{\"plot\":{\"id\":\"093f4f47-a56b-4691-bb70-7e1763c3083b\",\"subtype\":\"Figure\",\"type\":\"Plot\"}},\"id\":\"3b0a38b4-c38e-49fc-be4f-575ba57cfc4b\",\"type\":\"ResetTool\"},{\"attributes\":{\"active_drag\":\"auto\",\"active_scroll\":\"auto\",\"active_tap\":\"auto\",\"tools\":[{\"id\":\"7caa467e-742b-4035-9df7-51c34dedc5a7\",\"type\":\"PanTool\"},{\"id\":\"0dbe2e57-2308-48aa-ae95-a0a52a2bc25c\",\"type\":\"WheelZoomTool\"},{\"id\":\"900de542-ef1f-4ace-a9c3-0ffa7bcca555\",\"type\":\"BoxZoomTool\"},{\"id\":\"77afeea9-0c72-47e9-86cd-b72646ddae26\",\"type\":\"SaveTool\"},{\"id\":\"3b0a38b4-c38e-49fc-be4f-575ba57cfc4b\",\"type\":\"ResetTool\"},{\"id\":\"02099cfd-1a6b-4ba1-8a30-c953a5117a6f\",\"type\":\"HelpTool\"},{\"id\":\"995f1b05-32ad-4d25-826c-e85d5a0c3f10\",\"type\":\"HoverTool\"}]},\"id\":\"737f8e34-2449-4dc1-b252-ef79161b96a5\",\"type\":\"Toolbar\"},{\"attributes\":{\"callback\":null},\"id\":\"bd0bfd04-ea0d-4a72-af31-440d5b564643\",\"type\":\"DataRange1d\"}],\"root_ids\":[\"093f4f47-a56b-4691-bb70-7e1763c3083b\"]},\"title\":\"Bokeh Application\",\"version\":\"0.12.5\"}};\n",
       "            var render_items = [{\"docid\":\"8b4d25eb-7510-4bad-bc73-24260b8dc257\",\"elementid\":\"a3ba4d27-ce8b-4cfd-8b0f-018fcd734708\",\"modelid\":\"093f4f47-a56b-4691-bb70-7e1763c3083b\",\"notebook_comms_target\":\"b9cf0ca8-54f9-40c0-bf87-643ea03950a7\"}];\n",
       "            \n",
       "            Bokeh.embed.embed_items(docs_json, render_items);\n",
       "          };\n",
       "          if (document.readyState != \"loading\") fn();\n",
       "          else document.addEventListener(\"DOMContentLoaded\", fn);\n",
       "        })();\n",
       "      },\n",
       "      function(Bokeh) {\n",
       "      }\n",
       "    ];\n",
       "  \n",
       "    function run_inline_js() {\n",
       "      \n",
       "      if ((window.Bokeh !== undefined) || (force === true)) {\n",
       "        for (var i = 0; i < inline_js.length; i++) {\n",
       "          inline_js[i](window.Bokeh);\n",
       "        }if (force === true) {\n",
       "          display_loaded();\n",
       "        }} else if (Date.now() < window._bokeh_timeout) {\n",
       "        setTimeout(run_inline_js, 100);\n",
       "      } else if (!window._bokeh_failed_load) {\n",
       "        console.log(\"Bokeh: BokehJS failed to load within specified timeout.\");\n",
       "        window._bokeh_failed_load = true;\n",
       "      } else if (force !== true) {\n",
       "        var cell = $(document.getElementById(\"a3ba4d27-ce8b-4cfd-8b0f-018fcd734708\")).parents('.cell').data().cell;\n",
       "        cell.output_area.append_execute_result(NB_LOAD_WARNING)\n",
       "      }\n",
       "  \n",
       "    }\n",
       "  \n",
       "    if (window._bokeh_is_loading === 0) {\n",
       "      console.log(\"Bokeh: BokehJS loaded, going straight to plotting\");\n",
       "      run_inline_js();\n",
       "    } else {\n",
       "      load_libs(js_urls, function() {\n",
       "        console.log(\"Bokeh: BokehJS plotting callback run at\", now());\n",
       "        run_inline_js();\n",
       "      });\n",
       "    }\n",
       "  }(this));\n",
       "</script>"
      ]
     },
     "metadata": {},
     "output_type": "display_data"
    },
    {
     "data": {
      "text/html": [
       "<p><code>&lt;Bokeh Notebook handle for <strong>In[226]</strong>&gt;</code></p>"
      ],
      "text/plain": [
       "<bokeh.io._CommsHandle at 0x10c621210>"
      ]
     },
     "execution_count": 226,
     "metadata": {},
     "output_type": "execute_result"
    }
   ],
   "source": [
    "line_graph = figure(title=\"People living with HIV (all ages)\", plot_height=400, plot_width=600)\n",
    "line_r = line_graph.line(line_years, line_source[\"America\"], color=\"#2222aa\", line_width=3)\n",
    "hover_line = HoverTool(\n",
    "\t\ttooltips=[\n",
    "\t\t\t(\"year\", \"$x\"),\n",
    "\t\t\t(\"number\", \"$y\"),\n",
    "\t\t])\n",
    "\n",
    "line_graph.add_tools(hover_line)\n",
    "\n",
    "def update_line(region):\n",
    "    line_r.data_source.data['y'] = line_source[region]\n",
    "    push_notebook()\n",
    "    \n",
    "show(line_graph, notebook_handle=True)"
   ]
  },
  {
   "cell_type": "code",
   "execution_count": 227,
   "metadata": {
    "collapsed": false
   },
   "outputs": [
    {
     "data": {
      "text/plain": [
       "<function __main__.update_line>"
      ]
     },
     "execution_count": 227,
     "metadata": {},
     "output_type": "execute_result"
    }
   ],
   "source": [
    "interact(update_line, region=[\"America\", \"Sub-Saharan Africa\", \"South Asia\", \"Middle East & North Africa\", \n",
    "                              \"Europe & Central Asia\", \"East Asia & Pacific\"])"
   ]
  },
  {
   "cell_type": "code",
   "execution_count": null,
   "metadata": {
    "collapsed": false
   },
   "outputs": [],
   "source": []
  },
  {
   "cell_type": "code",
   "execution_count": null,
   "metadata": {
    "collapsed": true
   },
   "outputs": [],
   "source": []
  },
  {
   "cell_type": "code",
   "execution_count": 220,
   "metadata": {
    "collapsed": false
   },
   "outputs": [],
   "source": [
    "num_ppl = pd.read_csv(\"ppl-living-with-hiv-all-ages.csv\")\n",
    "annual_death = pd.read_csv(\"annual-number-of-AIDS-deaths.csv\")\n",
    "#num_ppl.iloc[:, 12:] "
   ]
  },
  {
   "cell_type": "code",
   "execution_count": 221,
   "metadata": {
    "collapsed": true
   },
   "outputs": [],
   "source": [
    "i_need = []\n",
    "for i in range(len(annual_death[\"Annual number of AIDS deaths\"])): \n",
    "    if (region_dict[annual_death[\"Annual number of AIDS deaths\"].iloc[i]]): \n",
    "        i_need.append(i) \n",
    "        \n",
    "annual_death = annual_death.iloc[i_need]"
   ]
  },
  {
   "cell_type": "code",
   "execution_count": 222,
   "metadata": {
    "collapsed": false
   },
   "outputs": [],
   "source": [
    "def get_data(year): \n",
    "    tmp_annual_death = annual_death[annual_death[year]<annual_death[year].median()*100] \n",
    "    y = annual_death[year][annual_death[year]<annual_death[year].median()*100].tolist()\n",
    "    #print len(y)\n",
    "    annual_death_ctys = tmp_annual_death[\"Annual number of AIDS deaths\"].tolist() \n",
    "    x = num_ppl[num_ppl[\"People living with HIV\"].isin(annual_death_ctys)][year]\n",
    "    #print len(x) \n",
    "    \n",
    "    colors = [] \n",
    "    scatter_legends = []\n",
    "    for c in annual_death_ctys: \n",
    "        if (region_dict[c] == \"Sub-Saharan Africa\"): \n",
    "            colors.append(\"navy\")\n",
    "            scatter_legends.append(\"Sub-Saharan Africa\")\n",
    "        elif (region_dict[c] == \"South Asia\"): \n",
    "            colors.append(\"azur\")\n",
    "            scatter_legends.append(\"South Asia\")\n",
    "        elif (region_dict[c] == \"Middle East & North Africa\"):\n",
    "            colors.append(\"green\")\n",
    "            scatter_legends.append(\"Middle East & North Africa\")\n",
    "        elif (region_dict[c] == \"America\"):\n",
    "            colors.append(\"yellow\")\n",
    "            scatter_legends.append(\"America\")\n",
    "        elif (region_dict[c] == \"Europe & Central Asia\"):\n",
    "            colors.append(\"orange\")\n",
    "            scatter_legends.append(\"Europe & Central Asia\")\n",
    "        elif (region_dict[c] == \"East Asia & Pacific\"):\n",
    "            colors.append(\"red\")\n",
    "            scatter_legends.append(\"East Asia & Pacific\")\n",
    "    return [x, y, colors, scatter_legends]\n",
    " "
   ]
  },
  {
   "cell_type": "code",
   "execution_count": 223,
   "metadata": {
    "collapsed": false,
    "scrolled": true
   },
   "outputs": [
    {
     "name": "stdout",
     "output_type": "stream",
     "text": [
      "['1990' '1991' '1992' '1993' '1994' '1995' '1996' '1997' '1998' '1999'\n",
      " '2000' '2001' '2002' '2003' '2004' '2005' '2006' '2007' '2008' '2009'\n",
      " '2010' '2011']\n"
     ]
    }
   ],
   "source": [
    "scatter_years = annual_death.columns.values[1:]\n",
    "print scatter_years "
   ]
  },
  {
   "cell_type": "code",
   "execution_count": 224,
   "metadata": {
    "collapsed": false
   },
   "outputs": [
    {
     "name": "stdout",
     "output_type": "stream",
     "text": [
      "133\n",
      "133\n",
      "133\n",
      "133\n"
     ]
    },
    {
     "data": {
      "text/html": [
       "\n",
       "\n",
       "    <div class=\"bk-root\">\n",
       "        <div class=\"bk-plotdiv\" id=\"49c0cb32-b4af-4abe-a020-e2dd736e27d7\"></div>\n",
       "    </div>\n",
       "<script type=\"text/javascript\">\n",
       "  \n",
       "  (function(global) {\n",
       "    function now() {\n",
       "      return new Date();\n",
       "    }\n",
       "  \n",
       "    var force = false;\n",
       "  \n",
       "    if (typeof (window._bokeh_onload_callbacks) === \"undefined\" || force === true) {\n",
       "      window._bokeh_onload_callbacks = [];\n",
       "      window._bokeh_is_loading = undefined;\n",
       "    }\n",
       "  \n",
       "  \n",
       "    \n",
       "    if (typeof (window._bokeh_timeout) === \"undefined\" || force === true) {\n",
       "      window._bokeh_timeout = Date.now() + 0;\n",
       "      window._bokeh_failed_load = false;\n",
       "    }\n",
       "  \n",
       "    var NB_LOAD_WARNING = {'data': {'text/html':\n",
       "       \"<div style='background-color: #fdd'>\\n\"+\n",
       "       \"<p>\\n\"+\n",
       "       \"BokehJS does not appear to have successfully loaded. If loading BokehJS from CDN, this \\n\"+\n",
       "       \"may be due to a slow or bad network connection. Possible fixes:\\n\"+\n",
       "       \"</p>\\n\"+\n",
       "       \"<ul>\\n\"+\n",
       "       \"<li>re-rerun `output_notebook()` to attempt to load from CDN again, or</li>\\n\"+\n",
       "       \"<li>use INLINE resources instead, as so:</li>\\n\"+\n",
       "       \"</ul>\\n\"+\n",
       "       \"<code>\\n\"+\n",
       "       \"from bokeh.resources import INLINE\\n\"+\n",
       "       \"output_notebook(resources=INLINE)\\n\"+\n",
       "       \"</code>\\n\"+\n",
       "       \"</div>\"}};\n",
       "  \n",
       "    function display_loaded() {\n",
       "      if (window.Bokeh !== undefined) {\n",
       "        var el = document.getElementById(\"49c0cb32-b4af-4abe-a020-e2dd736e27d7\");\n",
       "        el.textContent = \"BokehJS \" + Bokeh.version + \" successfully loaded.\";\n",
       "      } else if (Date.now() < window._bokeh_timeout) {\n",
       "        setTimeout(display_loaded, 100)\n",
       "      }\n",
       "    }if ((window.Jupyter !== undefined) && Jupyter.notebook.kernel) {\n",
       "      comm_manager = Jupyter.notebook.kernel.comm_manager\n",
       "      comm_manager.register_target(\"1cead15d-0784-4a57-b5bd-da6f80e91d87\", function () {});\n",
       "    }\n",
       "  \n",
       "    function run_callbacks() {\n",
       "      window._bokeh_onload_callbacks.forEach(function(callback) { callback() });\n",
       "      delete window._bokeh_onload_callbacks\n",
       "      console.info(\"Bokeh: all callbacks have finished\");\n",
       "    }\n",
       "  \n",
       "    function load_libs(js_urls, callback) {\n",
       "      window._bokeh_onload_callbacks.push(callback);\n",
       "      if (window._bokeh_is_loading > 0) {\n",
       "        console.log(\"Bokeh: BokehJS is being loaded, scheduling callback at\", now());\n",
       "        return null;\n",
       "      }\n",
       "      if (js_urls == null || js_urls.length === 0) {\n",
       "        run_callbacks();\n",
       "        return null;\n",
       "      }\n",
       "      console.log(\"Bokeh: BokehJS not loaded, scheduling load and callback at\", now());\n",
       "      window._bokeh_is_loading = js_urls.length;\n",
       "      for (var i = 0; i < js_urls.length; i++) {\n",
       "        var url = js_urls[i];\n",
       "        var s = document.createElement('script');\n",
       "        s.src = url;\n",
       "        s.async = false;\n",
       "        s.onreadystatechange = s.onload = function() {\n",
       "          window._bokeh_is_loading--;\n",
       "          if (window._bokeh_is_loading === 0) {\n",
       "            console.log(\"Bokeh: all BokehJS libraries loaded\");\n",
       "            run_callbacks()\n",
       "          }\n",
       "        };\n",
       "        s.onerror = function() {\n",
       "          console.warn(\"failed to load library \" + url);\n",
       "        };\n",
       "        console.log(\"Bokeh: injecting script tag for BokehJS library: \", url);\n",
       "        document.getElementsByTagName(\"head\")[0].appendChild(s);\n",
       "      }\n",
       "    };var element = document.getElementById(\"49c0cb32-b4af-4abe-a020-e2dd736e27d7\");\n",
       "    if (element == null) {\n",
       "      console.log(\"Bokeh: ERROR: autoload.js configured with elementid '49c0cb32-b4af-4abe-a020-e2dd736e27d7' but no matching script tag was found. \")\n",
       "      return false;\n",
       "    }\n",
       "  \n",
       "    var js_urls = [];\n",
       "  \n",
       "    var inline_js = [\n",
       "      function(Bokeh) {\n",
       "        (function() {\n",
       "          var fn = function() {\n",
       "            var docs_json = {\"063f3cc1-2ffb-4420-b579-3bc1bddddd0a\":{\"roots\":{\"references\":[{\"attributes\":{\"plot\":null,\"text\":\"People living with HIV (all ages) vs. Annual death of AIDS\"},\"id\":\"20b70ea1-5ff4-42c7-a700-d5895772e4cd\",\"type\":\"Title\"},{\"attributes\":{\"callback\":null,\"column_names\":[\"y\",\"x\",\"fill_color\"],\"data\":{\"fill_color\":[\"azur\",\"green\",\"navy\",\"yellow\",\"orange\",\"red\",\"orange\",\"orange\",\"yellow\",\"azur\",\"yellow\",\"orange\",\"orange\",\"yellow\",\"navy\",\"azur\",\"yellow\",\"navy\",\"yellow\",\"orange\",\"navy\",\"navy\",\"red\",\"navy\",\"yellow\",\"navy\",\"yellow\",\"navy\",\"navy\",\"yellow\",\"navy\",\"orange\",\"yellow\",\"orange\",\"green\",\"yellow\",\"green\",\"yellow\",\"navy\",\"navy\",\"orange\",\"red\",\"orange\",\"orange\",\"navy\",\"navy\",\"orange\",\"orange\",\"navy\",\"orange\",\"yellow\",\"navy\",\"navy\",\"yellow\",\"yellow\",\"yellow\",\"orange\",\"orange\",\"azur\",\"red\",\"green\",\"orange\",\"green\",\"orange\",\"yellow\",\"red\",\"orange\",\"navy\",\"orange\",\"green\",\"navy\",\"navy\",\"orange\",\"orange\",\"navy\",\"red\",\"azur\",\"navy\",\"orange\",\"navy\",\"navy\",\"yellow\",\"orange\",\"red\",\"green\",\"navy\",\"red\",\"navy\",\"azur\",\"orange\",\"red\",\"yellow\",\"navy\",\"navy\",\"orange\",\"green\",\"azur\",\"yellow\",\"red\",\"yellow\",\"red\",\"orange\",\"orange\",\"green\",\"orange\",\"navy\",\"navy\",\"orange\",\"navy\",\"red\",\"orange\",\"orange\",\"navy\",\"navy\",\"orange\",\"azur\",\"navy\",\"yellow\",\"navy\",\"orange\",\"orange\",\"orange\",\"red\",\"navy\",\"yellow\",\"green\",\"orange\",\"orange\",\"orange\",\"yellow\",\"orange\",\"yellow\",\"red\"],\"x\":{\"__ndarray__\":\"AAAAAADAgkAAAAAAAAD4fwAAAAAAHeBAAAAAAABe2kAAAAAAAOB1QAAAAAAAcMdAAAAAAADAgkAAAAAAAABOQAAAAAAADLdAAAAAAAAwkUAAAAAAAMCCQAAAAAAAAE5AAAAAAADglUAAAAAAAMCCQAAAAAAAC/NAAAAAAAAATkAAAAAAAHbWQAAAAAAABeRAAAAAAIAxB0EAAAAAAOB1QAAAAAAA+QVBAAAAAADJ7UAAAAAAAHbWQAAAAAAAye1AAAAAAAAX4UAAAAAAgFXxQAAAAAAA8+ZAAAAAAAAATkAAAAAAAMPuQAAAAAAAwJJAAAAAAMBcFUEAAAAAAABkQAAAAAAAMJFAAAAAAABQlEAAAAAAACCcQAAAAAAAcMdAAAAAAADAgkAAAAAAAACpQAAAAAAAQJ9AAAAAAACIo0AAAAAAAABOQAAAAAAAAE5AAAAAAADAgkAAAAAAAGr4QAAAAAAAfLVAAAAAAADAgkAAAAAAAOB1QAAAAAAAmuBAAAAAAIDG80AAAAAAAHy1QAAAAAAAGLVAAAAAAAB21kAAAAAAAHCXQAAAAAAAGKVAAAAAAABq+EAAAAAAABfhQAAAAAAAfLVAAAAAAAAATkAAAAAAgIQOQQAAAAAAAE5AAAAAAADgpUAAAAAAAMCCQAAAAAAAwJJAAAAAAADb+kAAAAAAAHDHQAAAAAAAtLRAAAAAAAAAZEAAAAAAABcRQQAAAAAA4HVAAAAAAADgdUAAAAAAAHC3QAAAAAAA9LpAAAAAAAAAZEAAAAAAAABkQAAAAAAAvLtAAAAAAAB8xUAAAAAAAABOQAAAAAAA7edAAAAAAAAATkAAAAAAAFirQAAAAAAA4HVAAAAAAIC09kAAAAAAAMCCQAAAAAAAAE5AAAAAAADglUAAAAAAAHDXQAAAAAAAmuBAAAAAAABwx0AAAAAAAMCCQAAAAAAALLpAAAAAAABAj0AAAAAAAMCCQAAAAAAAWMtAAAAAAIATDEEAAAAAAMCCQAAAAAAAAPh/AAAAAADAgkAAAAAAAHzFQAAAAAAAQK9AAAAAAABe2kAAAAAAAOB1QAAAAAAAkLpAAAAAAABYu0AAAAAAAAD4fwAAAAAAcKdAAAAAAAAAZEAAAAAAAIizQAAAAAAAULRAAAAAAADAgkAAAAAAAMCCQAAAAAAAAE5AAAAAAAAATkAAAAAAAJrQQAAAAAAAavhAAAAAAACC9EAAAAAAAOB1QAAAAAAAiNNAAAAAAABYq0AAAAAAAHDHQAAAAAAAOKhAAAAAAADcvkAAAAAAAMCCQAAAAACATxJBAAAAAACa4EAAAAAAAHCXQAAAAAAAAE5AAAAAAAAAZEAAAAAAAOB1QAAAAAAAdtZAAAAAAAAgnEAAAAAAAAD4fwAAAAAAgtRAAAAAAAAATkA=\",\"dtype\":\"float64\",\"shape\":[133]},\"y\":[60.0,60.0,600.0,3000.0,60.0,350.0,60.0,60.0,350.0,60.0,60.0,60.0,60.0,60.0,120.0,60.0,1500.0,600.0,4600.0,60.0,6700.0,3900.0,350.0,600.0,1300.0,1400.0,1100.0,60.0,3000.0,60.0,3900.0,60.0,60.0,60.0,60.0,600.0,60.0,150.0,60.0,120.0,60.0,60.0,60.0,8100.0,120.0,60.0,60.0,2500.0,600.0,150.0,350.0,1100.0,60.0,150.0,3900.0,600.0,350.0,60.0,5300.0,60.0,150.0,60.0,60.0,1600.0,350.0,350.0,60.0,10000.0,60.0,60.0,60.0,60.0,60.0,60.0,600.0,60.0,60.0,300.0,60.0,350.0,60.0,4800.0,60.0,60.0,120.0,2200.0,350.0,350.0,600.0,150.0,60.0,60.0,600.0,4400.0,60.0,60.0,60.0,350.0,60.0,1100.0,60.0,150.0,150.0,60.0,60.0,60.0,350.0,350.0,60.0,60.0,60.0,60.0,600.0,2200.0,3000.0,60.0,350.0,60.0,350.0,60.0,150.0,60.0,1100.0,300.0,60.0,60.0,60.0,60.0,600.0,60.0,60.0,1100.0,300.0]}},\"id\":\"b58905ca-774e-4c77-b9e0-5947598495de\",\"type\":\"ColumnDataSource\"},{\"attributes\":{},\"id\":\"2889ef86-784d-4226-9b9e-7ca4f43b9db6\",\"type\":\"BasicTicker\"},{\"attributes\":{},\"id\":\"c0784a61-d448-4562-8a4b-85d253492ccd\",\"type\":\"ToolEvents\"},{\"attributes\":{\"axis_label\":\"Annual death of AIDS\",\"formatter\":{\"id\":\"31626aeb-2904-402b-abb4-502f11fc76e7\",\"type\":\"BasicTickFormatter\"},\"plot\":{\"id\":\"b97f701e-b9fc-4fb9-b83d-41d2b5366a23\",\"subtype\":\"Figure\",\"type\":\"Plot\"},\"ticker\":{\"id\":\"0e587c8a-ad6d-44b3-bdc2-324f84d9334e\",\"type\":\"BasicTicker\"}},\"id\":\"1bda237f-f0dc-4d28-87ac-822465afd001\",\"type\":\"LinearAxis\"},{\"attributes\":{\"active_drag\":\"auto\",\"active_scroll\":\"auto\",\"active_tap\":\"auto\",\"tools\":[{\"id\":\"47879555-9270-43f4-8e3a-357202ab6777\",\"type\":\"PanTool\"},{\"id\":\"2f218656-bcdb-4804-b73a-1398c430031f\",\"type\":\"WheelZoomTool\"},{\"id\":\"c0decf48-5358-4fa9-b863-44a775ab7b76\",\"type\":\"BoxZoomTool\"},{\"id\":\"f3006249-23a4-4900-8df9-aaccca4cd261\",\"type\":\"SaveTool\"},{\"id\":\"9b09357b-e3cf-444b-a108-25909a20ef77\",\"type\":\"ResetTool\"},{\"id\":\"91422354-fc5f-4140-ae4d-32e4b8d058c4\",\"type\":\"HelpTool\"},{\"id\":\"3e8559af-6437-4d68-ae8a-bb30d2b969ac\",\"type\":\"HoverTool\"}]},\"id\":\"e3d819b3-d993-48b5-a4fa-d48bf4180db8\",\"type\":\"Toolbar\"},{\"attributes\":{},\"id\":\"0e587c8a-ad6d-44b3-bdc2-324f84d9334e\",\"type\":\"BasicTicker\"},{\"attributes\":{\"plot\":{\"id\":\"b97f701e-b9fc-4fb9-b83d-41d2b5366a23\",\"subtype\":\"Figure\",\"type\":\"Plot\"}},\"id\":\"9b09357b-e3cf-444b-a108-25909a20ef77\",\"type\":\"ResetTool\"},{\"attributes\":{\"axis_label\":\"People living with HIV (all ages)\",\"formatter\":{\"id\":\"1dbf9421-d79e-40fb-9bb1-d8f1d50f6c85\",\"type\":\"BasicTickFormatter\"},\"plot\":{\"id\":\"b97f701e-b9fc-4fb9-b83d-41d2b5366a23\",\"subtype\":\"Figure\",\"type\":\"Plot\"},\"ticker\":{\"id\":\"2889ef86-784d-4226-9b9e-7ca4f43b9db6\",\"type\":\"BasicTicker\"}},\"id\":\"4bdb3e74-1d23-4814-916e-f99595906f12\",\"type\":\"LinearAxis\"},{\"attributes\":{\"plot\":{\"id\":\"b97f701e-b9fc-4fb9-b83d-41d2b5366a23\",\"subtype\":\"Figure\",\"type\":\"Plot\"},\"ticker\":{\"id\":\"2889ef86-784d-4226-9b9e-7ca4f43b9db6\",\"type\":\"BasicTicker\"}},\"id\":\"0702eec6-dfeb-4906-a016-85f13c64d768\",\"type\":\"Grid\"},{\"attributes\":{\"plot\":{\"id\":\"b97f701e-b9fc-4fb9-b83d-41d2b5366a23\",\"subtype\":\"Figure\",\"type\":\"Plot\"}},\"id\":\"f3006249-23a4-4900-8df9-aaccca4cd261\",\"type\":\"SaveTool\"},{\"attributes\":{\"overlay\":{\"id\":\"815cef58-7fa8-4ae4-8080-00c5b07c6d93\",\"type\":\"BoxAnnotation\"},\"plot\":{\"id\":\"b97f701e-b9fc-4fb9-b83d-41d2b5366a23\",\"subtype\":\"Figure\",\"type\":\"Plot\"}},\"id\":\"c0decf48-5358-4fa9-b863-44a775ab7b76\",\"type\":\"BoxZoomTool\"},{\"attributes\":{\"bottom_units\":\"screen\",\"fill_alpha\":{\"value\":0.5},\"fill_color\":{\"value\":\"lightgrey\"},\"left_units\":\"screen\",\"level\":\"overlay\",\"line_alpha\":{\"value\":1.0},\"line_color\":{\"value\":\"black\"},\"line_dash\":[4,4],\"line_width\":{\"value\":2},\"plot\":null,\"render_mode\":\"css\",\"right_units\":\"screen\",\"top_units\":\"screen\"},\"id\":\"815cef58-7fa8-4ae4-8080-00c5b07c6d93\",\"type\":\"BoxAnnotation\"},{\"attributes\":{\"callback\":null},\"id\":\"1bd936c4-4ff0-442e-9f8f-fe02cd719030\",\"type\":\"DataRange1d\"},{\"attributes\":{\"fill_alpha\":{\"value\":0.1},\"fill_color\":{\"value\":\"#1f77b4\"},\"line_alpha\":{\"value\":0.1},\"line_color\":{\"value\":\"#1f77b4\"},\"size\":{\"units\":\"screen\",\"value\":10},\"x\":{\"field\":\"x\"},\"y\":{\"field\":\"y\"}},\"id\":\"2255a1f0-a136-4c8e-8094-b009e5762aa8\",\"type\":\"Circle\"},{\"attributes\":{},\"id\":\"31626aeb-2904-402b-abb4-502f11fc76e7\",\"type\":\"BasicTickFormatter\"},{\"attributes\":{\"plot\":{\"id\":\"b97f701e-b9fc-4fb9-b83d-41d2b5366a23\",\"subtype\":\"Figure\",\"type\":\"Plot\"}},\"id\":\"91422354-fc5f-4140-ae4d-32e4b8d058c4\",\"type\":\"HelpTool\"},{\"attributes\":{\"callback\":null,\"plot\":{\"id\":\"b97f701e-b9fc-4fb9-b83d-41d2b5366a23\",\"subtype\":\"Figure\",\"type\":\"Plot\"},\"tooltips\":[[\"People living with HIV\",\"$x\"],[\"Annual death of AIDS\",\"$y\"]]},\"id\":\"3e8559af-6437-4d68-ae8a-bb30d2b969ac\",\"type\":\"HoverTool\"},{\"attributes\":{\"data_source\":{\"id\":\"b58905ca-774e-4c77-b9e0-5947598495de\",\"type\":\"ColumnDataSource\"},\"glyph\":{\"id\":\"0309ad08-db63-4d51-993e-23084d3b4112\",\"type\":\"Circle\"},\"hover_glyph\":null,\"muted_glyph\":null,\"nonselection_glyph\":{\"id\":\"2255a1f0-a136-4c8e-8094-b009e5762aa8\",\"type\":\"Circle\"},\"selection_glyph\":null},\"id\":\"c0c49653-b9d8-4b29-8216-fc3cfa6a6f2f\",\"type\":\"GlyphRenderer\"},{\"attributes\":{\"below\":[{\"id\":\"4bdb3e74-1d23-4814-916e-f99595906f12\",\"type\":\"LinearAxis\"}],\"left\":[{\"id\":\"1bda237f-f0dc-4d28-87ac-822465afd001\",\"type\":\"LinearAxis\"}],\"plot_height\":500,\"plot_width\":700,\"renderers\":[{\"id\":\"4bdb3e74-1d23-4814-916e-f99595906f12\",\"type\":\"LinearAxis\"},{\"id\":\"0702eec6-dfeb-4906-a016-85f13c64d768\",\"type\":\"Grid\"},{\"id\":\"1bda237f-f0dc-4d28-87ac-822465afd001\",\"type\":\"LinearAxis\"},{\"id\":\"cc95fef4-4eec-4145-87bc-6fd65dbd18cc\",\"type\":\"Grid\"},{\"id\":\"815cef58-7fa8-4ae4-8080-00c5b07c6d93\",\"type\":\"BoxAnnotation\"},{\"id\":\"c0c49653-b9d8-4b29-8216-fc3cfa6a6f2f\",\"type\":\"GlyphRenderer\"}],\"title\":{\"id\":\"20b70ea1-5ff4-42c7-a700-d5895772e4cd\",\"type\":\"Title\"},\"tool_events\":{\"id\":\"c0784a61-d448-4562-8a4b-85d253492ccd\",\"type\":\"ToolEvents\"},\"toolbar\":{\"id\":\"e3d819b3-d993-48b5-a4fa-d48bf4180db8\",\"type\":\"Toolbar\"},\"x_range\":{\"id\":\"1bd936c4-4ff0-442e-9f8f-fe02cd719030\",\"type\":\"DataRange1d\"},\"y_range\":{\"id\":\"b2ce4d17-a11a-498b-a6ed-77938241a41d\",\"type\":\"DataRange1d\"}},\"id\":\"b97f701e-b9fc-4fb9-b83d-41d2b5366a23\",\"subtype\":\"Figure\",\"type\":\"Plot\"},{\"attributes\":{\"dimension\":1,\"plot\":{\"id\":\"b97f701e-b9fc-4fb9-b83d-41d2b5366a23\",\"subtype\":\"Figure\",\"type\":\"Plot\"},\"ticker\":{\"id\":\"0e587c8a-ad6d-44b3-bdc2-324f84d9334e\",\"type\":\"BasicTicker\"}},\"id\":\"cc95fef4-4eec-4145-87bc-6fd65dbd18cc\",\"type\":\"Grid\"},{\"attributes\":{\"plot\":{\"id\":\"b97f701e-b9fc-4fb9-b83d-41d2b5366a23\",\"subtype\":\"Figure\",\"type\":\"Plot\"}},\"id\":\"2f218656-bcdb-4804-b73a-1398c430031f\",\"type\":\"WheelZoomTool\"},{\"attributes\":{},\"id\":\"1dbf9421-d79e-40fb-9bb1-d8f1d50f6c85\",\"type\":\"BasicTickFormatter\"},{\"attributes\":{\"fill_alpha\":{\"value\":0.6},\"fill_color\":{\"field\":\"fill_color\"},\"line_color\":{\"value\":null},\"size\":{\"units\":\"screen\",\"value\":10},\"x\":{\"field\":\"x\"},\"y\":{\"field\":\"y\"}},\"id\":\"0309ad08-db63-4d51-993e-23084d3b4112\",\"type\":\"Circle\"},{\"attributes\":{\"plot\":{\"id\":\"b97f701e-b9fc-4fb9-b83d-41d2b5366a23\",\"subtype\":\"Figure\",\"type\":\"Plot\"}},\"id\":\"47879555-9270-43f4-8e3a-357202ab6777\",\"type\":\"PanTool\"},{\"attributes\":{\"callback\":null},\"id\":\"b2ce4d17-a11a-498b-a6ed-77938241a41d\",\"type\":\"DataRange1d\"}],\"root_ids\":[\"b97f701e-b9fc-4fb9-b83d-41d2b5366a23\"]},\"title\":\"Bokeh Application\",\"version\":\"0.12.5\"}};\n",
       "            var render_items = [{\"docid\":\"063f3cc1-2ffb-4420-b579-3bc1bddddd0a\",\"elementid\":\"49c0cb32-b4af-4abe-a020-e2dd736e27d7\",\"modelid\":\"b97f701e-b9fc-4fb9-b83d-41d2b5366a23\",\"notebook_comms_target\":\"1cead15d-0784-4a57-b5bd-da6f80e91d87\"}];\n",
       "            \n",
       "            Bokeh.embed.embed_items(docs_json, render_items);\n",
       "          };\n",
       "          if (document.readyState != \"loading\") fn();\n",
       "          else document.addEventListener(\"DOMContentLoaded\", fn);\n",
       "        })();\n",
       "      },\n",
       "      function(Bokeh) {\n",
       "      }\n",
       "    ];\n",
       "  \n",
       "    function run_inline_js() {\n",
       "      \n",
       "      if ((window.Bokeh !== undefined) || (force === true)) {\n",
       "        for (var i = 0; i < inline_js.length; i++) {\n",
       "          inline_js[i](window.Bokeh);\n",
       "        }if (force === true) {\n",
       "          display_loaded();\n",
       "        }} else if (Date.now() < window._bokeh_timeout) {\n",
       "        setTimeout(run_inline_js, 100);\n",
       "      } else if (!window._bokeh_failed_load) {\n",
       "        console.log(\"Bokeh: BokehJS failed to load within specified timeout.\");\n",
       "        window._bokeh_failed_load = true;\n",
       "      } else if (force !== true) {\n",
       "        var cell = $(document.getElementById(\"49c0cb32-b4af-4abe-a020-e2dd736e27d7\")).parents('.cell').data().cell;\n",
       "        cell.output_area.append_execute_result(NB_LOAD_WARNING)\n",
       "      }\n",
       "  \n",
       "    }\n",
       "  \n",
       "    if (window._bokeh_is_loading === 0) {\n",
       "      console.log(\"Bokeh: BokehJS loaded, going straight to plotting\");\n",
       "      run_inline_js();\n",
       "    } else {\n",
       "      load_libs(js_urls, function() {\n",
       "        console.log(\"Bokeh: BokehJS plotting callback run at\", now());\n",
       "        run_inline_js();\n",
       "      });\n",
       "    }\n",
       "  }(this));\n",
       "</script>"
      ]
     },
     "metadata": {},
     "output_type": "display_data"
    },
    {
     "data": {
      "text/html": [
       "<p><code>&lt;Bokeh Notebook handle for <strong>In[224]</strong>&gt;</code></p>"
      ],
      "text/plain": [
       "<bokeh.io._CommsHandle at 0x10ca5d690>"
      ]
     },
     "execution_count": 224,
     "metadata": {},
     "output_type": "execute_result"
    }
   ],
   "source": [
    "init_data = get_data('1990')\n",
    "print len(init_data[0])\n",
    "print len(init_data[1])\n",
    "print len(init_data[2])\n",
    "print len(init_data[3])\n",
    "scatter_source = {'x': init_data[0], 'y': init_data[1], }\n",
    "scatter_graph = figure(title=\"People living with HIV (all ages) vs. Annual death of AIDS\", \n",
    "                       plot_height=500, plot_width=700, x_axis_label=\"People living with HIV (all ages)\",\n",
    "                      y_axis_label=\"Annual death of AIDS\")\n",
    "scatter_r = scatter_graph.circle(init_data[0], init_data[1], size=10, fill_color=init_data[2], \n",
    "                                 fill_alpha=0.6, line_color=None) #, legend=field(init_data[3]\n",
    "\n",
    "hover_scatter = HoverTool(\n",
    "\t\ttooltips=[\n",
    "\t\t\t(\"People living with HIV\", \"$x\"),\n",
    "\t\t\t(\"Annual death of AIDS\", \"$y\"),\n",
    "\t\t])\n",
    "\n",
    "\n",
    "scatter_graph.add_tools(hover_scatter)\n",
    "\n",
    "def update_scatter(year=1990):\n",
    "    result = get_data(str(year)) \n",
    "    scatter_r.data_source.data['x'] = result[0]\n",
    "    scatter_r.data_source.data['y'] = result[1] \n",
    "    scatter_r.data_source.data['fill_color'] = result[2] \n",
    "    scatter_r.data_source.data['legend'] = result[3]\n",
    "    push_notebook()\n",
    "\n",
    "show(scatter_graph, notebook_handle=True)\n"
   ]
  },
  {
   "cell_type": "code",
   "execution_count": 225,
   "metadata": {
    "collapsed": false
   },
   "outputs": [
    {
     "data": {
      "text/plain": [
       "<function __main__.update_scatter>"
      ]
     },
     "execution_count": 225,
     "metadata": {},
     "output_type": "execute_result"
    }
   ],
   "source": [
    "interact(update_scatter, year=(1990, 2011))"
   ]
  },
  {
   "cell_type": "code",
   "execution_count": null,
   "metadata": {
    "collapsed": false
   },
   "outputs": [],
   "source": []
  },
  {
   "cell_type": "code",
   "execution_count": null,
   "metadata": {
    "collapsed": false
   },
   "outputs": [],
   "source": []
  },
  {
   "cell_type": "code",
   "execution_count": null,
   "metadata": {
    "collapsed": false
   },
   "outputs": [],
   "source": []
  },
  {
   "cell_type": "code",
   "execution_count": null,
   "metadata": {
    "collapsed": true
   },
   "outputs": [],
   "source": []
  }
 ],
 "metadata": {
  "kernelspec": {
   "display_name": "Python [Root]",
   "language": "python",
   "name": "Python [Root]"
  },
  "language_info": {
   "codemirror_mode": {
    "name": "ipython",
    "version": 2
   },
   "file_extension": ".py",
   "mimetype": "text/x-python",
   "name": "python",
   "nbconvert_exporter": "python",
   "pygments_lexer": "ipython2",
   "version": "2.7.13"
  },
  "widgets": {
   "state": {
    "cf9fc1fe94944139957aaabc6d18e2a4": {
     "views": [
      {
       "cell_index": 10
      }
     ]
    },
    "f0213debb48349e3be4c35c6aeee2462": {
     "views": [
      {
       "cell_index": 2
      }
     ]
    }
   },
   "version": "1.2.0"
  }
 },
 "nbformat": 4,
 "nbformat_minor": 2
}
